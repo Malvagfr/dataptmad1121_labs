{
 "cells": [
  {
   "cell_type": "markdown",
   "id": "f2fd63bd",
   "metadata": {},
   "source": [
    "## Option 2"
   ]
  },
  {
   "cell_type": "code",
   "execution_count": 9,
   "id": "f734fc15",
   "metadata": {},
   "outputs": [],
   "source": [
    "#change from number to words\n",
    "def n2w(n):\n",
    "    num2words = {-1: 'minus one', -2: 'minus two', -3: 'minus three', -4: 'minus four', -5: 'minus five'\n",
    "                ,0: 'zero',1: 'one', 2: 'two', 3: 'three', 4: 'four', 5: 'five'\n",
    "                ,6: 'six',7: 'seven',8: 'eight',9: 'nine',10: 'ten'}\n",
    "    return num2words[n]"
   ]
  },
  {
   "cell_type": "code",
   "execution_count": 10,
   "id": "96fac9b3",
   "metadata": {},
   "outputs": [],
   "source": [
    "#change from words to numbers\n",
    "def w2n(n):\n",
    "    words2num = {'zero': 0,'one': 1,'two': 2,'three': 3,'four': 4,'five': 5}\n",
    "    return words2num[n]"
   ]
  },
  {
   "cell_type": "code",
   "execution_count": 11,
   "id": "f45d5ef3",
   "metadata": {},
   "outputs": [
    {
     "name": "stdout",
     "output_type": "stream",
     "text": [
      "Welcome to this calculator!\n",
      "It can add and subtract whole numbers from zero to five\n",
      "Please choose your first number (zero to five): zero\n",
      "What do you want to do? plus or minus: minus\n",
      "Please choose your second number (zero to five): five\n"
     ]
    }
   ],
   "source": [
    "print('Welcome to this calculator!')\n",
    "print('It can add and subtract whole numbers from zero to five')\n",
    "a = input('Please choose your first number (zero to five): ')\n",
    "b = input('What do you want to do? plus or minus: ')\n",
    "c = input('Please choose your second number (zero to five): ')"
   ]
  },
  {
   "cell_type": "code",
   "execution_count": 12,
   "id": "5d9bbb58",
   "metadata": {},
   "outputs": [
    {
     "name": "stdout",
     "output_type": "stream",
     "text": [
      "zero minus five equals minus five\n",
      "Thanks for using this calculator, goodbye :)\n",
      "CPU times: user 1.07 ms, sys: 599 µs, total: 1.67 ms\n",
      "Wall time: 1.28 ms\n"
     ]
    }
   ],
   "source": [
    "%%time\n",
    "if  b=='plus':\n",
    "    print(a,\"plus\",c, \"equals\",n2w(w2n(a)+w2n(c)))\n",
    "else:\n",
    "    print(a,\"minus\",c,\"equals\",n2w(w2n(a)-w2n(c)))\n",
    "print(\"Thanks for using this calculator, goodbye :)\")"
   ]
  }
 ],
 "metadata": {
  "kernelspec": {
   "display_name": "Python [conda env:ironhack]",
   "language": "python",
   "name": "conda-env-ironhack-py"
  },
  "language_info": {
   "codemirror_mode": {
    "name": "ipython",
    "version": 3
   },
   "file_extension": ".py",
   "mimetype": "text/x-python",
   "name": "python",
   "nbconvert_exporter": "python",
   "pygments_lexer": "ipython3",
   "version": "3.7.11"
  }
 },
 "nbformat": 4,
 "nbformat_minor": 5
}
