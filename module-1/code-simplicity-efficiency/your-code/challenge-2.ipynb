{
 "cells": [
  {
   "cell_type": "markdown",
   "id": "1604ad7a",
   "metadata": {},
   "source": [
    "## Option 2A"
   ]
  },
  {
   "cell_type": "code",
   "execution_count": 13,
   "id": "6c06584a",
   "metadata": {},
   "outputs": [],
   "source": [
    "import re\n",
    "import random\n",
    "def RandomStringGenerator(l):\n",
    "    a =[chr(i) for i in range(ord('a'), ord('z') + 1)] + [str(i) for i in range(1, 9 + 1)]\n",
    "    return (\"\").join([ random.choice(a) for i in range(l)])"
   ]
  },
  {
   "cell_type": "code",
   "execution_count": 14,
   "id": "be64f715",
   "metadata": {},
   "outputs": [
    {
     "name": "stdout",
     "output_type": "stream",
     "text": [
      "CPU times: user 64 µs, sys: 1 µs, total: 65 µs\n",
      "Wall time: 68.9 µs\n"
     ]
    },
    {
     "data": {
      "text/plain": [
       "'5cfivhuvqwvcvx2'"
      ]
     },
     "execution_count": 14,
     "metadata": {},
     "output_type": "execute_result"
    }
   ],
   "source": [
    "%%time\n",
    "RandomStringGenerator(15)"
   ]
  },
  {
   "cell_type": "markdown",
   "id": "5b57ab81",
   "metadata": {},
   "source": [
    "## Option 2B"
   ]
  },
  {
   "cell_type": "code",
   "execution_count": 58,
   "id": "d5bb0d00",
   "metadata": {},
   "outputs": [
    {
     "name": "stdout",
     "output_type": "stream",
     "text": [
      "Enter minimum string length: 3\n",
      "Enter maximum string length: 20\n",
      "How many random strings to generate? 4\n",
      "['u9z4xgxjxpk', 'noepanavj1us', 'eitfs8kafton7yg8e6', 'm8x1hg6vsinjuohaj']\n",
      "CPU times: user 120 ms, sys: 92.4 ms, total: 213 ms\n",
      "Wall time: 7.43 s\n"
     ]
    }
   ],
   "source": [
    "%%time\n",
    "def BatchStringGenerator(n, a=8, b=12):\n",
    "    if a>b:\n",
    "        import sys\n",
    "        sys.exit('Incorrect min and max string lengths. Try again.') \n",
    "    elif a==b:\n",
    "        c=a\n",
    "        return [RandomStringGenerator(c) for i in range(n)]\n",
    "    else:\n",
    "        return [RandomStringGenerator(random.choice(range(a, b))) for i in range(n)]\n",
    "    \n",
    "a = input('Enter minimum string length: ')\n",
    "b = input('Enter maximum string length: ')\n",
    "n = input('How many random strings to generate? ')\n",
    "20\n",
    "print(BatchStringGenerator(int(n), int(a), int(b)))"
   ]
  }
 ],
 "metadata": {
  "kernelspec": {
   "display_name": "Python [conda env:ironhack]",
   "language": "python",
   "name": "conda-env-ironhack-py"
  },
  "language_info": {
   "codemirror_mode": {
    "name": "ipython",
    "version": 3
   },
   "file_extension": ".py",
   "mimetype": "text/x-python",
   "name": "python",
   "nbconvert_exporter": "python",
   "pygments_lexer": "ipython3",
   "version": "3.7.11"
  }
 },
 "nbformat": 4,
 "nbformat_minor": 5
}
