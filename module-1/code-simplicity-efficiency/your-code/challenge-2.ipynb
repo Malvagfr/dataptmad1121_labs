{
 "cells": [
  {
   "cell_type": "code",
   "execution_count": 3,
   "id": "6c06584a",
   "metadata": {},
   "outputs": [
    {
     "name": "stdout",
     "output_type": "stream",
     "text": [
      "CPU times: user 9 µs, sys: 0 ns, total: 9 µs\n",
      "Wall time: 11.9 µs\n"
     ]
    }
   ],
   "source": [
    "%%time\n",
    "import re\n",
    "import random\n",
    "def RandomStringGenerator(l):\n",
    "    a =[chr(i) for i in range(ord('a'), ord('z') + 1)] + [str(i) for i in range(1, 9 + 1)]\n",
    "    return (\"\").join([ random.choice(a) for i in range(l)])"
   ]
  },
  {
   "cell_type": "code",
   "execution_count": 4,
   "id": "be64f715",
   "metadata": {},
   "outputs": [
    {
     "data": {
      "text/plain": [
       "'yd2lf59akl'"
      ]
     },
     "execution_count": 4,
     "metadata": {},
     "output_type": "execute_result"
    }
   ],
   "source": [
    "RandomStringGenerator(10)"
   ]
  }
 ],
 "metadata": {
  "kernelspec": {
   "display_name": "Python [conda env:ironhack]",
   "language": "python",
   "name": "conda-env-ironhack-py"
  },
  "language_info": {
   "codemirror_mode": {
    "name": "ipython",
    "version": 3
   },
   "file_extension": ".py",
   "mimetype": "text/x-python",
   "name": "python",
   "nbconvert_exporter": "python",
   "pygments_lexer": "ipython3",
   "version": "3.7.11"
  }
 },
 "nbformat": 4,
 "nbformat_minor": 5
}
