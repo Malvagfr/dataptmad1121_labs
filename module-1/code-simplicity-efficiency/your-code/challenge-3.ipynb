{
 "cells": [
  {
   "cell_type": "markdown",
   "id": "88664e88",
   "metadata": {},
   "source": [
    "## Option 2"
   ]
  },
  {
   "cell_type": "code",
   "execution_count": 13,
   "id": "dd622e1e",
   "metadata": {},
   "outputs": [],
   "source": [
    "def my_function_ref(X):\n",
    "    if X<=5:\n",
    "        return print(\"select a number greather than 5\")\n",
    "    else:\n",
    "        long_side=max([max([x, y, z]) for z in range(3, X) for y in range(4, X) for x in range(5, X) if (x*x==y*y+z*z)])\n",
    "        return print(\"The longest side possible is \",long_side)"
   ]
  },
  {
   "cell_type": "code",
   "execution_count": 14,
   "id": "9974b0fd",
   "metadata": {},
   "outputs": [
    {
     "name": "stdout",
     "output_type": "stream",
     "text": [
      "The longest side possible is  13\n",
      "CPU times: user 1.87 ms, sys: 1.11 ms, total: 2.98 ms\n",
      "Wall time: 2.48 ms\n"
     ]
    }
   ],
   "source": [
    "%%time\n",
    "my_function_ref(15)"
   ]
  }
 ],
 "metadata": {
  "kernelspec": {
   "display_name": "Python [conda env:ironhack]",
   "language": "python",
   "name": "conda-env-ironhack-py"
  },
  "language_info": {
   "codemirror_mode": {
    "name": "ipython",
    "version": 3
   },
   "file_extension": ".py",
   "mimetype": "text/x-python",
   "name": "python",
   "nbconvert_exporter": "python",
   "pygments_lexer": "ipython3",
   "version": "3.7.11"
  }
 },
 "nbformat": 4,
 "nbformat_minor": 5
}
